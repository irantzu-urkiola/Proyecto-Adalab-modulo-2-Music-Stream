{
 "cells": [
  {
   "cell_type": "code",
   "execution_count": null,
   "id": "80f5baec",
   "metadata": {},
   "outputs": [],
   "source": [
    "#Importamos las bibliotecas necesarias\n",
    "\n",
    "import spotipy\n",
    "import pandas as pd\n",
    "import warnings\n",
    "#Filtramos advertencias\n",
    "from tqdm import tqdm"
   ]
  },
  {
   "cell_type": "code",
   "execution_count": null,
   "id": "1a221042",
   "metadata": {},
   "outputs": [],
   "source": [
    "# Nos da avisos de posibles errores\n",
    "warnings.filterwarnings('ignore')"
   ]
  },
  {
   "cell_type": "code",
   "execution_count": null,
   "id": "41407fdd",
   "metadata": {},
   "outputs": [],
   "source": [
    "#Importamos las credenciales de acceso a la API Spotipy\n",
    "\n",
    "from spotipy.oauth2 import SpotifyClientCredentials"
   ]
  },
  {
   "cell_type": "code",
   "execution_count": null,
   "id": "6c0c7be0",
   "metadata": {},
   "outputs": [],
   "source": [
    "# Colocamos las credenciales\n",
    "\n",
    "CLIENT_ID = 'a018711755a146b2a678a93741dc6041'\n",
    "CLIENT_SECRET = '51fa44e4b57343f19c810b9a75089da6'\n",
    "\n",
    "# Autenticación\n",
    "\n",
    "auth_manager = SpotifyClientCredentials(client_id=CLIENT_ID, client_secret=CLIENT_SECRET)\n",
    "sp = spotipy.Spotify(auth_manager=auth_manager)"
   ]
  },
  {
   "cell_type": "code",
   "execution_count": null,
   "id": "5385c563",
   "metadata": {},
   "outputs": [],
   "source": [
    "#Fechas escogidas:\n",
    "\n",
    "año_inicio = 2013\n",
    "año_fin = 2017"
   ]
  },
  {
   "cell_type": "code",
   "execution_count": null,
   "id": "d0ca85d1",
   "metadata": {},
   "outputs": [],
   "source": [
    "#Géneros escogidos: Flamencopop, Reggae, Ska y Kpop"
   ]
  },
  {
   "cell_type": "code",
   "execution_count": null,
   "id": "15163c4f",
   "metadata": {},
   "outputs": [],
   "source": [
    "#Creamos una función para extraer los datos que nos interesan de cada género\n",
    "\n",
    "def get_tracks_by_genre(genre):\n",
    "    \n",
    "    track_data = []\n",
    "\n",
    "    # Buscamos 1000 canciones del género especificado, poniendo 50 por página (el máximo de la API).\n",
    "    for offset in range(0, 1000, 50):\n",
    "        results = sp.search(q=f'genre:{genre} year:{año_inicio}-{año_fin}', type='track', limit=50, offset=offset)\n",
    " \n",
    "    # Extraemos los IDs de las canciones.\n",
    "        track_ids = [track['id'] for track in results['tracks']['items']]\n",
    " \n",
    "    # Obtenemos los detalles de las canciones.\n",
    "        tracks_info = sp.tracks(tracks=track_ids)\n",
    " \n",
    "    # Obtenemos los datos de cada canción y se los añadimos a la lista.\n",
    "        for track in tracks_info['tracks']:\n",
    "            track_data.append({\n",
    "                'genre': genre,\n",
    "                'name': track['name'],\n",
    "                'artists_name': ', '.join([artist['name'] for artist in track['artists']]),  # Si hay varios artistas\n",
    "                'album_name': track['album']['name'],\n",
    "                'album_release_date': track['album']['release_date'],\n",
    "                'duration_ms': track['duration_ms'],\n",
    "                'popularity': track['popularity'],\n",
    "                'track_number': track['track_number'],\n",
    "                'uri': track['uri']\n",
    "            })\n",
    " \n",
    "    # Convertimos la lista en un df de pandas.\n",
    "    \n",
    "    df = pd.DataFrame(track_data)\n",
    " \n",
    "    return df"
   ]
  },
  {
   "cell_type": "code",
   "execution_count": null,
   "id": "7524f1e6",
   "metadata": {},
   "outputs": [],
   "source": [
    "#Usamos la función con cada género\n",
    "\n",
    "genre1 = \"k_pop\"\n",
    "df_k_pop = get_tracks_by_genre(genre1)\n",
    "df_k_pop"
   ]
  },
  {
   "cell_type": "code",
   "execution_count": null,
   "id": "1a397edb",
   "metadata": {},
   "outputs": [],
   "source": [
    "#Convertimos los df resultantes de cada género en un archivo csv y uno excel (para verlo mas claro)\n",
    "\n",
    "df_k_pop.to_csv('df_k_pop.csv', index=False)\n",
    "df_k_pop.to_excel('df_k_pop.xlsx', index=False)"
   ]
  },
  {
   "cell_type": "code",
   "execution_count": null,
   "id": "875dc8e7",
   "metadata": {},
   "outputs": [],
   "source": [
    "# Dividimos los nombres por coma y aplanamos la lista\n",
    "artistas = df_k_pop['artists_name'].str.split(',').explode().str.strip()\n",
    "\n",
    "# Obtenemos artistas únicos para sacar los artistas en la API de Last.fm\n",
    "artistas_unicos_kpop = set(artistas)\n",
    "\n",
    "# Imprimimos el resultado iterando por el set\n",
    "print(\"Artistas únicos encontrados:\")\n",
    "for artista in sorted(artistas_unicos_kpop):\n",
    "    print(artista)\n",
    "    "
   ]
  },
  {
   "cell_type": "code",
   "execution_count": null,
   "id": "d2336560",
   "metadata": {},
   "outputs": [],
   "source": [
    "genre2 = \"ska\"\n",
    "df_ska = get_tracks_by_genre(genre2)\n",
    "df_ska"
   ]
  },
  {
   "cell_type": "code",
   "execution_count": null,
   "id": "d8facf8c",
   "metadata": {},
   "outputs": [],
   "source": [
    "df_ska.to_csv('df_ska.csv', index=False)\n",
    "df_ska.to_excel('df_ska.xlsx', index=False)"
   ]
  },
  {
   "cell_type": "code",
   "execution_count": null,
   "id": "bc491319",
   "metadata": {},
   "outputs": [],
   "source": [
    "artistas = df_ska['artists_name'].str.split(',').explode().str.strip()\n",
    "\n",
    "artistas_unicos_ska = set(artistas)\n",
    "\n",
    "print(\"Artistas únicos encontrados:\")\n",
    "for artista in sorted(artistas_unicos_ska):\n",
    "    print(artista)"
   ]
  },
  {
   "cell_type": "code",
   "execution_count": null,
   "id": "37e83fa1",
   "metadata": {},
   "outputs": [],
   "source": [
    "genre3 = \"reggae\"\n",
    "df_reggae = get_tracks_by_genre(genre3)\n",
    "df_reggae"
   ]
  },
  {
   "cell_type": "code",
   "execution_count": null,
   "id": "db35661c",
   "metadata": {},
   "outputs": [],
   "source": [
    "df_reggae.to_csv('df_reggae.csv', index=False)\n",
    "df_reggae.to_excel('df_reggae.xlsx', index=False)"
   ]
  },
  {
   "cell_type": "code",
   "execution_count": null,
   "id": "1d0e8d9b",
   "metadata": {},
   "outputs": [],
   "source": [
    "artistas = df_reggae['artists_name'].str.split(',').explode().str.strip()\n",
    "\n",
    "artistas_unicos_reggae = set(artistas)\n",
    "\n",
    "print(\"Artistas únicos encontrados:\")\n",
    "for artista in sorted(artistas_unicos_reggae):\n",
    "    print(artista)"
   ]
  },
  {
   "cell_type": "code",
   "execution_count": null,
   "id": "78ffe014",
   "metadata": {},
   "outputs": [],
   "source": [
    "genre4 = \"flamenco_pop\"\n",
    "df_flamenco_pop = get_tracks_by_genre(genre4)\n",
    "df_flamenco_pop"
   ]
  },
  {
   "cell_type": "code",
   "execution_count": null,
   "id": "39ea1e15",
   "metadata": {},
   "outputs": [],
   "source": [
    "df_flamenco_pop.to_csv('df_flamenco_pop.csv', index=False)\n",
    "df_flamenco_pop.to_excel('df_flamenco_pop.xlsx', index=False)"
   ]
  },
  {
   "cell_type": "code",
   "execution_count": null,
   "id": "dbe644ae",
   "metadata": {},
   "outputs": [],
   "source": [
    "artistas = df_flamenco_pop['artists_name'].str.split(',').explode().str.strip()\n",
    "\n",
    "artistas_unicos_flamencopop = set(artistas)\n",
    "\n",
    "print(\"Artistas únicos encontrados:\")\n",
    "for artista in sorted(artistas_unicos_flamencopop):\n",
    "    print(artista)"
   ]
  },
  {
   "cell_type": "code",
   "execution_count": null,
   "id": "46c23cc4",
   "metadata": {},
   "outputs": [],
   "source": [
    "#Imprimimos la largura de artistas únicos para compararla con la largura de los excel\n",
    "\n",
    "print(len(artistas_unicos_kpop))\n",
    "print(len(artistas_unicos_ska))\n",
    "print(len(artistas_unicos_reggae))\n",
    "print(len(artistas_unicos_flamencopop))\n"
   ]
  },
  {
   "cell_type": "code",
   "execution_count": null,
   "id": "13c66d1e",
   "metadata": {},
   "outputs": [],
   "source": [
    "#Convertimos la lista artistas únicos en un df de artistas por género\n",
    "\n",
    "df_artistas1 = pd.DataFrame(artistas_unicos_kpop)\n",
    "df_artistas2 = pd.DataFrame(artistas_unicos_ska)\n",
    "df_artistas3 = pd.DataFrame(artistas_unicos_reggae)\n",
    "df_artistas4 = pd.DataFrame(artistas_unicos_flamencopop)"
   ]
  },
  {
   "cell_type": "code",
   "execution_count": null,
   "id": "5851b81a",
   "metadata": {},
   "outputs": [],
   "source": [
    "#Creamos archivos csv con esos df\n",
    "\n",
    "df_artistas1.to_csv('df_k_pop_artistas.csv', index=False)\n",
    "df_artistas2.to_csv('df_ska_artistas.csv', index=False)\n",
    "df_artistas3.to_csv('df_reggae_artistas.csv', index=False)\n",
    "df_artistas4.to_csv('df_flamenco_pop_artistas.csv', index=False)"
   ]
  },
  {
   "cell_type": "code",
   "execution_count": null,
   "id": "c082c1d9",
   "metadata": {},
   "outputs": [],
   "source": [
    "#Importamos las bibliotecas necesarias\n",
    "\n",
    "import requests\n",
    "import time  # Para manejar el límite de velocidad de la API\n",
    "\n",
    "# Obtenemos la API Key de last.fm\n",
    "API_KEY = 'd97c59010214fb89dd7e101407646224'  # Reemplazamos con nuestro API Key válida de Last.fm.\n",
    "BASE_URL = 'http://ws.audioscrobbler.com/2.0/'  # URL base de la API de Last.fm, siempre es la misma\n",
    "\n",
    "#Creamos 3 funciones para extraer los datos que nos interesan de cada artista en Last.fm \n",
    "    # 1 Para extraer la info de artistas\n",
    "\n",
    "def get_artist_info(artist_name, api_key):\n",
    "    \"\"\"\n",
    "    Obtiene información de un artista desde la API de Last.fm.\n",
    "\n",
    "    Args:\n",
    "        artist_name (str): El nombre del artista.\n",
    "        api_key (str): Tu clave de API de Last.fm.\n",
    "\n",
    "    Returns:\n",
    "        dict: Un diccionario con la información del artista, o None si hay un error.\n",
    "    \"\"\"\n",
    "    params = {\n",
    "        'method': 'artist.getinfo',  # Método de la API para obtener información del artista\n",
    "        'artist': artist_name,       # Nombre del artista a buscar\n",
    "        'api_key': api_key,         # Clave de la API\n",
    "        'format': 'json'            # Formato de la respuesta (JSON)\n",
    "    }\n",
    "    try:\n",
    "        response = requests.get(BASE_URL, params=params)\n",
    "        response.raise_for_status()  # Lanza una excepción para códigos de estado HTTP malos (4xx o 5xx)\n",
    "        return response.json()       # Convierte la respuesta JSON a un diccionario de Python\n",
    "    except requests.exceptions.RequestException as e:\n",
    "        print(f\"Error al obtener información para {artist_name}: {e}\")\n",
    "        return None  # Devuelve None en caso de error\n",
    "\n",
    "    # 2 Para crear un diccionario de cada respuesta\n",
    "\n",
    "def create_artist_object(artist_data, artist_name):\n",
    "    \"\"\"\n",
    "    Crea un diccionario con la información relevante del artista a partir de la respuesta de la API.\n",
    "\n",
    "    Args:\n",
    "        artist_data (dict): La respuesta JSON de la API de Last.fm.\n",
    "        artist_name (str): El nombre del artista.\n",
    "\n",
    "    Returns:\n",
    "        dict: Un diccionario con la información del artista formateada.\n",
    "    \"\"\"\n",
    "    if artist_data and 'artist' in artist_data:\n",
    "        # Extrae la lista de artistas similares (maneja el caso de que falten datos)\n",
    "        similar_artists = artist_data['artist'].get('similar', {}).get('artist', [])\n",
    "        similar_names = [artist.get('name') for artist in similar_artists]  # Obtiene solo los nombres\n",
    "\n",
    "        return {\n",
    "            'artist': artist_name,\n",
    "            'Biography': artist_data['artist'].get('bio', {}).get('summary', 'Sin datos'),\n",
    "            'Listeners': artist_data['artist'].get('stats', {}).get('listeners', 'Sin datos'),\n",
    "            'Playcount': artist_data['artist'].get('stats', {}).get('playcount', 'Sin datos'),\n",
    "            'Similar Artists': similar_names  # Lista de nombres de artistas similares\n",
    "        }\n",
    "    else:\n",
    "        return None  # Devuelve None si no hay datos del artista\n",
    "\n",
    "    # 3 Para crear un df con la info de cada artista\n",
    "\n",
    "def process_artists_from_dataframe(artists_df, api_key, artist_column_name=0):\n",
    "    \"\"\"\n",
    "    Obtiene y procesa información de artistas desde un DataFrame de pandas.\n",
    "\n",
    "    Args:\n",
    "        artists_df (pd.DataFrame): DataFrame que contiene los nombres de los artistas.\n",
    "        api_key (str): Tu clave de API de Last.fm.\n",
    "        artist_column_name (str o int, opcional): El nombre o el índice de la columna\n",
    "                                                  que contiene los nombres de los artistas.\n",
    "                                                  Por defecto, es 0 (la primera columna).\n",
    "\n",
    "    Returns:\n",
    "        pd.DataFrame: DataFrame con la información de los artistas.\n",
    "    \"\"\"\n",
    "    artists_data = []\n",
    "    for artist in artists_df[artist_column_name]:  # Itera sobre la columna de artistas\n",
    "        artist_info = get_artist_info(artist, api_key)  # Obtiene información del artista\n",
    "        if artist_info:\n",
    "            artista = create_artist_object(artist_info, artist)  # Crea el objeto artista\n",
    "            if artista:\n",
    "                artists_data.append(artista)  # Agrega la información a la lista\n",
    "        time.sleep(0.1)  # Aplica un retraso para evitar el límite de velocidad de la API\n",
    "    return pd.DataFrame(artists_data)  # Convierte la lista de diccionarios a un DataFrame\n",
    "\n",
    "\n",
    "# Bloque de ejecución principal (solo se ejecuta si el script se ejecuta directamente)\n",
    "if __name__ == '__main__':\n",
    "    \n",
    "    df_artists_info_kpop = process_artists_from_dataframe(df_artistas1, API_KEY, artist_column_name=0)\n",
    "    df_artists_info_ska = process_artists_from_dataframe(df_artistas2, API_KEY, artist_column_name=0)\n",
    "    df_artists_info_reggae = process_artists_from_dataframe(df_artistas3, API_KEY, artist_column_name=0)\n",
    "    df_artists_info_flamenco = process_artists_from_dataframe(df_artistas4, API_KEY, artist_column_name=0)\n",
    "\n",
    "    # Imprimimos los resultados \n",
    "    print(\"Información de Artistas K-pop:\\n\", df_artists_info_kpop)\n",
    "    print(\"\\nInformación de Artistas Ska:\\n\", df_artists_info_ska)\n",
    "    print(\"\\nInformación de Artistas Reggae:\\n\", df_artists_info_reggae)\n",
    "    print(\"\\nInformación de Artistas Flamenco-Pop:\\n\", df_artists_info_flamenco)"
   ]
  },
  {
   "cell_type": "code",
   "execution_count": null,
   "id": "72a93f4e",
   "metadata": {},
   "outputs": [],
   "source": [
    "# Convertimos a csv los df de artistas\n",
    "\n",
    "df_artists_info_kpop.to_csv(\"kpop_artistas_info.csv\", index=False)\n",
    "df_artists_info_ska.to_csv(\"ska_artistas_info.csv\", index=False)\n",
    "df_artists_info_reggae.to_csv(\"reggae_artistas_info.csv\", index=False)\n",
    "df_artists_info_flamenco.to_csv(\"flamenco_pop_artistas_info.csv\", index=False)"
   ]
  },
  {
   "cell_type": "code",
   "execution_count": null,
   "id": "77857abd",
   "metadata": {},
   "outputs": [],
   "source": [
    "# Convertimos a Excel los df de artistas\n",
    "\n",
    "df_artists_info_kpop.to_excel(\"kpop_artistas_info.xlsx\", index=False)\n",
    "df_artists_info_ska.to_excel(\"ska_artistas_info.xlsx\", index=False)\n",
    "df_artists_info_reggae.to_excel(\"reggae_artistas_info.xlsx\", index=False)\n",
    "df_artists_info_flamenco.to_excel(\"flamenco_pop_artistas_info.xlsx\", index=False)"
   ]
  },
  {
   "cell_type": "code",
   "execution_count": 3,
   "id": "7822c3c3",
   "metadata": {},
   "outputs": [],
   "source": [
    "# Importamos las bibliotecas necesarias para la conexión con SQL\n",
    "\n",
    "import mysql.connector\n",
    "from mysql.connector import errorcode "
   ]
  },
  {
   "cell_type": "code",
   "execution_count": 22,
   "id": "948c2948",
   "metadata": {},
   "outputs": [
    {
     "name": "stdout",
     "output_type": "stream",
     "text": [
      "Conexión existosa a SQL\n"
     ]
    }
   ],
   "source": [
    "# Realizamos la conexión y creamos el cursor\n",
    "\n",
    "try:\n",
    "    cnx = mysql.connector.connect(\n",
    "        user = 'root',\n",
    "        password = 'AlumnaAdalab',\n",
    "        host = '127.0.0.1',\n",
    "        port = 3306\n",
    "    )\n",
    "    print('Conexión existosa a SQL')\n",
    "\n",
    "except mysql.connector.Error as err:\n",
    "    if err.errno == errorcode.ER_ACCESS_DENIED_ERROR:\n",
    "        print('Algo está mal con tu usuario o contraseña')\n",
    "    else:\n",
    "        print(f'Error:{err}')\n",
    "\n",
    "cursor = cnx.cursor()"
   ]
  },
  {
   "cell_type": "code",
   "execution_count": null,
   "id": "b6800d73",
   "metadata": {},
   "outputs": [],
   "source": [
    "# Creamos el esquema en sql y lo empezamos a usar (esto solo se ejecuta una vez)\n",
    "\n",
    "cursor.execute('CREATE DATABASE proyecto_2_MusicStream')\n",
    "cursor.execute('USE proyecto_2_MusicStream')\n",
    "\n",
    "# Cerramos la conexión con SQL\n",
    "\n",
    "cnx.close()"
   ]
  },
  {
   "cell_type": "code",
   "execution_count": 1,
   "id": "46b624ef",
   "metadata": {},
   "outputs": [],
   "source": [
    "# Importamos desde aquí el pandas para seguir trabajando desde este punto sin necesidad de ejecutar el resto de código\n",
    "\n",
    "import pandas as pd"
   ]
  },
  {
   "cell_type": "code",
   "execution_count": 28,
   "id": "c139799e",
   "metadata": {},
   "outputs": [
    {
     "name": "stdout",
     "output_type": "stream",
     "text": [
      "Conexión existosa a la base de datos\n"
     ]
    }
   ],
   "source": [
    "# A partir de aquí nos conectamos directamente al esquema creado\n",
    "\n",
    "try:\n",
    "    cnx = mysql.connector.connect(\n",
    "        user = 'root',\n",
    "        password = 'AlumnaAdalab',\n",
    "        host = '127.0.0.1',\n",
    "        port = 3306,\n",
    "        database = 'proyecto_2_MusicStream'\n",
    "    )\n",
    "    print('Conexión existosa a la base de datos')\n",
    "\n",
    "except mysql.connector.Error as err:\n",
    "    if err.errno == errorcode.ER_ACCESS_DENIED_ERROR:\n",
    "        print('Algo está mal con tu usuario o contraseña')\n",
    "    elif err.errno == errorcode.ER_BAD_DB_ERROR:\n",
    "        print('La base de datos a la que intentas conectar no existe')\n",
    "    else:\n",
    "        print(f'Error:{err}')\n",
    "\n",
    "# Creamos el cursor\n",
    "\n",
    "cursor = cnx.cursor()"
   ]
  },
  {
   "cell_type": "code",
   "execution_count": 6,
   "id": "6f8e66ec",
   "metadata": {},
   "outputs": [
    {
     "name": "stdout",
     "output_type": "stream",
     "text": [
      "✅ FASE 1: Datos insertados en reggae y reggae_artistas.\n"
     ]
    }
   ],
   "source": [
    "# Para insertar los registros en la base de datos por cada género:\n",
    "\n",
    "# Cargamos los csv's ,de ambas API's, creados anteriormente\n",
    "\n",
    "df_reggae = pd.read_csv(\"df_reggae.csv\")\n",
    "df_reggae_artistas = pd.read_csv(\"reggae_artistas_info.csv\")\n",
    "\n",
    "# Insertamos en tabla 'reggae' los datos del df Spotify\n",
    "\n",
    "for _, fila in df_reggae.iterrows():\n",
    "    cursor.execute(\"\"\"\n",
    "        INSERT INTO reggae \n",
    "        (genero, cancion, nombre_artista, album, año, duracion, popularidad, numero_pista, spotify_id)\n",
    "        VALUES (%s, %s, %s, %s, %s, %s, %s, %s, %s)\n",
    "    \"\"\", (\n",
    "        fila['genre'], fila['name'], fila['artists_name'], fila['album_name'],\n",
    "        fila['album_release_date'], int(fila['duration_ms']), int(fila['popularity']),\n",
    "        fila['track_number'], fila['uri']\n",
    "    ))\n",
    "\n",
    "# Confirmamos los cambios en la base de datos\n",
    "\n",
    "cnx.commit()\n",
    "\n",
    "# Insertamos en tabla 'reggae_artistas' los datos del df Last.fm\n",
    "\n",
    "for _, fila in df_reggae_artistas.iterrows():\n",
    "    cursor.execute(\"\"\"\n",
    "        INSERT INTO reggae_artistas \n",
    "        (artista, biografia, oyentes, reproducciones, artistas_similares)\n",
    "        VALUES (%s, %s, %s, %s, %s)\n",
    "    \"\"\", (\n",
    "        fila['artist'], fila['Biography'], int(fila['Listeners']),\n",
    "        int(fila['Playcount']), fila['Similar Artists']\n",
    "    ))\n",
    "\n",
    "# Confirmamos los cambios en la base de datos\n",
    "\n",
    "cnx.commit()\n",
    "\n",
    "\n",
    "print(\"✅ FASE 1: Datos insertados en reggae y reggae_artistas.\")"
   ]
  },
  {
   "cell_type": "code",
   "execution_count": 7,
   "id": "d82f3157",
   "metadata": {},
   "outputs": [
    {
     "name": "stderr",
     "output_type": "stream",
     "text": [
      "C:\\Users\\AIDA\\AppData\\Local\\Temp\\ipykernel_12532\\3357808198.py:5: UserWarning: pandas only supports SQLAlchemy connectable (engine/connection) or database string URI or sqlite3 DBAPI2 connection. Other DBAPI2 objects are not tested. Please consider using SQLAlchemy.\n",
      "  df_reggae = pd.read_sql(\"SELECT * FROM reggae\", cnx)\n"
     ]
    }
   ],
   "source": [
    "# Tenemos que separar los artistas de la tabla derivada de Spotify, porque hay canciones colaborativas\n",
    "# y salen todos en el mismo registro, y así obtenemos los datos únicos:\n",
    "\n",
    "    # 1 Cargamos los datos de la tabla en un df\n",
    "df_reggae = pd.read_sql(\"SELECT * FROM reggae\", cnx)\n",
    "\n",
    "    # 2 Procesamos los artistas\n",
    "    # 3 Creamos un df donde cada artista se asocia con su canción\n",
    "\n",
    "artistas_y_canciones_reggae = []\n",
    "\n",
    "for _, fila in df_reggae.iterrows():\n",
    "    artistas_reggae = fila['nombre_artista'].split(',')  # Separamos los artistas por coma\n",
    "    for artista in artistas_reggae:\n",
    "        artistas_y_canciones_reggae.append((fila['id_cancion'], artista.strip()))  # Limpiamos los espacios y lo asociamos a la canción\n",
    "\n",
    "    # 4 Creamos un df con canciones y artistas\n",
    "\n",
    "df_artistas_canciones_reggae = pd.DataFrame(artistas_y_canciones_reggae, columns=['id_cancion', 'artist'])"
   ]
  },
  {
   "cell_type": "code",
   "execution_count": 11,
   "id": "07cf44c5",
   "metadata": {},
   "outputs": [],
   "source": [
    "# Para insertar los artistas en la tabla reggae_artistas:\n",
    "\n",
    "# Eliminamos duplicados\n",
    "\n",
    "df_artistas_unicos_reggae = df_artistas_canciones_reggae['artist'].drop_duplicates()\n",
    "\n",
    "# Insertamos los artistas únicos en su tabla \n",
    "\n",
    "for artista in df_artistas_unicos_reggae:\n",
    "    cursor.execute(\"\"\"\n",
    "        INSERT INTO reggae_artistas (artista) \n",
    "        SELECT %s\n",
    "        WHERE NOT EXISTS (SELECT 1 FROM reggae_artistas WHERE artista = %s)\n",
    "    \"\"\", (artista, artista))\n",
    "\n",
    "# Confirmamos los cambios en la base de datos\n",
    "\n",
    "cnx.commit()"
   ]
  },
  {
   "cell_type": "code",
   "execution_count": 13,
   "id": "96e88b03",
   "metadata": {},
   "outputs": [],
   "source": [
    "# Para obtener los IDs de los artistas:\n",
    "\n",
    "# Obtenemos los id's de los artistas de sql\n",
    "\n",
    "artistas_ids_reggae = {}\n",
    "cursor.execute(\"SELECT id_artista, artista FROM reggae_artistas\")\n",
    "for fila in cursor.fetchall():\n",
    "    artistas_ids_reggae[fila[1]] = fila[0]  # Asociamos el nombre del artista con su id\n",
    "\n",
    "# Añadimos el id_artista al df\n",
    "\n",
    "df_artistas_canciones_reggae['id_artista'] = df_artistas_canciones_reggae['artist'].map(artistas_ids_reggae)"
   ]
  },
  {
   "cell_type": "code",
   "execution_count": 14,
   "id": "ef8a6e7a",
   "metadata": {},
   "outputs": [
    {
     "name": "stdout",
     "output_type": "stream",
     "text": [
      "✅ Relaciones insertadas correctamente.\n"
     ]
    }
   ],
   "source": [
    "# Para insertar las relaciones en la tabla intermedia de cada género (creadas en SQL):\n",
    "\n",
    "# Insertamos las relaciones en su tabla intermedia \n",
    "\n",
    "for _, fila in df_artistas_canciones_reggae.iterrows():\n",
    "    cursor.execute(\"\"\"\n",
    "        INSERT INTO canciones_artistas_reggae (id_cancion, id_artista) \n",
    "        VALUES (%s, %s)\n",
    "        ON DUPLICATE KEY UPDATE id_artista = id_artista\n",
    "    \"\"\", (fila['id_cancion'], fila['id_artista']))\n",
    "\n",
    "# Confirmamos los cambios en la base de datos\n",
    "\n",
    "cnx.commit()\n",
    "\n",
    "print(\"✅ Relaciones insertadas correctamente.\")"
   ]
  },
  {
   "cell_type": "code",
   "execution_count": 15,
   "id": "68df557f",
   "metadata": {},
   "outputs": [
    {
     "name": "stdout",
     "output_type": "stream",
     "text": [
      "✅ FASE 1: Datos insertados en ska y ska_artistas.\n"
     ]
    }
   ],
   "source": [
    "# Para insertar los datos de ska en sus tablas primarias:\n",
    "\n",
    "df_ska = pd.read_csv(\"df_ska.csv\")\n",
    "df_ska_artistas = pd.read_csv(\"ska_artistas_info.csv\")\n",
    "\n",
    "for _, fila in df_ska.iterrows():\n",
    "    cursor.execute(\"\"\"\n",
    "        INSERT INTO ska \n",
    "        (genero, cancion, nombre_artista, album, año, duracion, popularidad, numero_pista, spotify_id)\n",
    "        VALUES (%s, %s, %s, %s, %s, %s, %s, %s, %s)\n",
    "    \"\"\", (\n",
    "        fila['genre'], fila['name'], fila['artists_name'], fila['album_name'],\n",
    "        fila['album_release_date'], int(fila['duration_ms']), int(fila['popularity']),\n",
    "        fila['track_number'], fila['uri']\n",
    "    ))\n",
    "\n",
    "cnx.commit()\n",
    "\n",
    "for _, fila in df_ska_artistas.iterrows():\n",
    "    cursor.execute(\"\"\"\n",
    "        INSERT INTO ska_artistas \n",
    "        (artista, biografia, oyentes, reproducciones, artistas_similares)\n",
    "        VALUES (%s, %s, %s, %s, %s)\n",
    "    \"\"\", (\n",
    "        fila['artist'], fila['Biography'], int(fila['Listeners']),\n",
    "        int(fila['Playcount']), fila['Similar Artists']\n",
    "    ))\n",
    "\n",
    "cnx.commit()\n",
    "\n",
    "\n",
    "print(\"✅ FASE 1: Datos insertados en ska y ska_artistas.\")"
   ]
  },
  {
   "cell_type": "code",
   "execution_count": 17,
   "id": "d19d69f1",
   "metadata": {},
   "outputs": [
    {
     "name": "stderr",
     "output_type": "stream",
     "text": [
      "C:\\Users\\AIDA\\AppData\\Local\\Temp\\ipykernel_12532\\2160625949.py:3: UserWarning: pandas only supports SQLAlchemy connectable (engine/connection) or database string URI or sqlite3 DBAPI2 connection. Other DBAPI2 objects are not tested. Please consider using SQLAlchemy.\n",
      "  df_ska = pd.read_sql(\"SELECT * FROM ska\", cnx)\n"
     ]
    },
    {
     "name": "stdout",
     "output_type": "stream",
     "text": [
      "✅ Relaciones insertadas correctamente.\n"
     ]
    }
   ],
   "source": [
    "# # Para extraer los datos necesarios para la tabla intermedia e insertarlos en ska:\n",
    "\n",
    "df_ska = pd.read_sql(\"SELECT * FROM ska\", cnx)\n",
    "    \n",
    "artistas_y_canciones_ska = []\n",
    "\n",
    "for _, fila in df_ska.iterrows():\n",
    "    artistas_ska = fila['nombre_artista'].split(',')  \n",
    "    for artista in artistas_ska:\n",
    "        artistas_y_canciones_ska.append((fila['id_cancion'], artista.strip()))  \n",
    "\n",
    "df_artistas_canciones_ska = pd.DataFrame(artistas_y_canciones_ska, columns=['id_cancion', 'artist'])\n",
    "\n",
    "\n",
    "df_artistas_unicos_ska = df_artistas_canciones_ska['artist'].drop_duplicates()\n",
    "\n",
    "for artista in df_artistas_unicos_ska:\n",
    "    cursor.execute(\"\"\"\n",
    "        INSERT INTO ska_artistas (artista) \n",
    "        SELECT %s\n",
    "        WHERE NOT EXISTS (SELECT 1 FROM ska_artistas WHERE artista = %s)\n",
    "    \"\"\", (artista, artista))\n",
    "\n",
    "cnx.commit()\n",
    "\n",
    "\n",
    "artistas_ids_ska = {}\n",
    "cursor.execute(\"SELECT id_artista, artista FROM ska_artistas\")\n",
    "for fila in cursor.fetchall():\n",
    "    artistas_ids_ska[fila[1]] = fila[0]  \n",
    "\n",
    "df_artistas_canciones_ska['id_artista'] = df_artistas_canciones_ska['artist'].map(artistas_ids_ska)\n",
    "\n",
    "\n",
    "for _, fila in df_artistas_canciones_ska.iterrows():\n",
    "    cursor.execute(\"\"\"\n",
    "        INSERT INTO canciones_artistas_ska (id_cancion, id_artista) \n",
    "        VALUES (%s, %s)\n",
    "        ON DUPLICATE KEY UPDATE id_artista = id_artista\n",
    "    \"\"\", (fila['id_cancion'], fila['id_artista']))\n",
    "\n",
    "cnx.commit()\n",
    "\n",
    "print(\"✅ Relaciones insertadas correctamente.\")"
   ]
  },
  {
   "cell_type": "code",
   "execution_count": 18,
   "id": "337ddc1c",
   "metadata": {},
   "outputs": [
    {
     "name": "stdout",
     "output_type": "stream",
     "text": [
      "✅ FASE 1: Datos insertados en flamencopop y flamencopop_artistas.\n"
     ]
    }
   ],
   "source": [
    "# Para insertar los datos de flamencopop en sus tablas primarias:\n",
    "\n",
    "df_flamencopop = pd.read_csv(\"df_flamenco_pop.csv\")\n",
    "df_flamencopop_artistas = pd.read_csv(\"flamenco_pop_artistas_info.csv\")\n",
    "\n",
    "for _, fila in df_flamencopop.iterrows():\n",
    "    cursor.execute(\"\"\"\n",
    "        INSERT INTO flamencopop \n",
    "        (genero, cancion, nombre_artista, album, año, duracion, popularidad, numero_pista, spotify_id)\n",
    "        VALUES (%s, %s, %s, %s, %s, %s, %s, %s, %s)\n",
    "    \"\"\", (\n",
    "        fila['genre'], fila['name'], fila['artists_name'], fila['album_name'],\n",
    "        fila['album_release_date'], int(fila['duration_ms']), int(fila['popularity']),\n",
    "        fila['track_number'], fila['uri']\n",
    "    ))\n",
    "\n",
    "cnx.commit()\n",
    "\n",
    "for _, fila in df_flamencopop_artistas.iterrows():\n",
    "    cursor.execute(\"\"\"\n",
    "        INSERT INTO flamencopop_artistas \n",
    "        (artista, biografia, oyentes, reproducciones, artistas_similares)\n",
    "        VALUES (%s, %s, %s, %s, %s)\n",
    "    \"\"\", (\n",
    "        fila['artist'], fila['Biography'], int(fila['Listeners']),\n",
    "        int(fila['Playcount']), fila['Similar Artists']\n",
    "    ))\n",
    "\n",
    "cnx.commit()\n",
    "\n",
    "\n",
    "print(\"✅ FASE 1: Datos insertados en flamencopop y flamencopop_artistas.\")"
   ]
  },
  {
   "cell_type": "code",
   "execution_count": 19,
   "id": "f7ed2e28",
   "metadata": {},
   "outputs": [
    {
     "name": "stderr",
     "output_type": "stream",
     "text": [
      "C:\\Users\\AIDA\\AppData\\Local\\Temp\\ipykernel_12532\\4153856974.py:3: UserWarning: pandas only supports SQLAlchemy connectable (engine/connection) or database string URI or sqlite3 DBAPI2 connection. Other DBAPI2 objects are not tested. Please consider using SQLAlchemy.\n",
      "  df_flamencopop = pd.read_sql(\"SELECT * FROM flamencopop\", cnx)\n"
     ]
    },
    {
     "name": "stdout",
     "output_type": "stream",
     "text": [
      "✅ Relaciones insertadas correctamente.\n"
     ]
    }
   ],
   "source": [
    "# Para extraer los datos necesarios para la tabla intermedia e insertarlos en flamencopop:\n",
    "\n",
    "df_flamencopop = pd.read_sql(\"SELECT * FROM flamencopop\", cnx)\n",
    "    \n",
    "artistas_y_canciones_flamencopop = []\n",
    "\n",
    "for _, fila in df_flamencopop.iterrows():\n",
    "    artistas_flamencopop = fila['nombre_artista'].split(',')  \n",
    "    for artista in artistas_flamencopop:\n",
    "        artistas_y_canciones_flamencopop.append((fila['id_cancion'], artista.strip()))  \n",
    "\n",
    "df_artistas_canciones_flamencopop = pd.DataFrame(artistas_y_canciones_flamencopop, columns=['id_cancion', 'artist'])\n",
    "\n",
    "\n",
    "df_artistas_unicos_flamencopop = df_artistas_canciones_flamencopop['artist'].drop_duplicates()\n",
    "\n",
    "for artista in df_artistas_unicos_flamencopop:\n",
    "    cursor.execute(\"\"\"\n",
    "        INSERT INTO flamencopop_artistas (artista) \n",
    "        SELECT %s\n",
    "        WHERE NOT EXISTS (SELECT 1 FROM flamencopop_artistas WHERE artista = %s)\n",
    "    \"\"\", (artista, artista))\n",
    "\n",
    "cnx.commit()\n",
    "\n",
    "\n",
    "artistas_ids_flamencopop = {}\n",
    "cursor.execute(\"SELECT id_artista, artista FROM flamencopop_artistas\")\n",
    "for fila in cursor.fetchall():\n",
    "    artistas_ids_flamencopop[fila[1]] = fila[0]  \n",
    "\n",
    "df_artistas_canciones_flamencopop['id_artista'] = df_artistas_canciones_flamencopop['artist'].map(artistas_ids_flamencopop)\n",
    "\n",
    "\n",
    "for _, fila in df_artistas_canciones_flamencopop.iterrows():\n",
    "    cursor.execute(\"\"\"\n",
    "        INSERT INTO canciones_artistas_flamencopop (id_cancion, id_artista) \n",
    "        VALUES (%s, %s)\n",
    "        ON DUPLICATE KEY UPDATE id_artista = id_artista\n",
    "    \"\"\", (fila['id_cancion'], fila['id_artista']))\n",
    "\n",
    "cnx.commit()\n",
    "\n",
    "print(\"✅ Relaciones insertadas correctamente.\")"
   ]
  },
  {
   "cell_type": "code",
   "execution_count": 29,
   "id": "bd061f08",
   "metadata": {},
   "outputs": [
    {
     "name": "stdout",
     "output_type": "stream",
     "text": [
      "✅ FASE 1: Datos insertados en kpop y kpop_artistas.\n"
     ]
    }
   ],
   "source": [
    "# Para insertar los datos de kpop en sus tablas primarias:\n",
    "\n",
    "df_kpop = pd.read_csv(\"df_k_pop.csv\")\n",
    "df_kpop_artistas = pd.read_csv(\"kpop_artistas_info.csv\")\n",
    "\n",
    "for _, fila in df_kpop.iterrows():\n",
    "    cursor.execute(\"\"\"\n",
    "        INSERT INTO kpop \n",
    "        (genero, cancion, nombre_artista, album, año, duracion, popularidad, numero_pista, spotify_id)\n",
    "        VALUES (%s, %s, %s, %s, %s, %s, %s, %s, %s)\n",
    "    \"\"\", (\n",
    "        fila['genre'], fila['name'], fila['artists_name'], fila['album_name'],\n",
    "        fila['album_release_date'], int(fila['duration_ms']), int(fila['popularity']),\n",
    "        fila['track_number'], fila['uri']\n",
    "    ))\n",
    "\n",
    "cnx.commit()\n",
    "\n",
    "for _, fila in df_kpop_artistas.iterrows():\n",
    "    cursor.execute(\"\"\"\n",
    "        INSERT INTO kpop_artistas \n",
    "        (artista, biografia, oyentes, reproducciones, artistas_similares)\n",
    "        VALUES (%s, %s, %s, %s, %s)\n",
    "    \"\"\", (\n",
    "        fila['artist'], fila['Biography'], int(fila['Listeners']),\n",
    "        int(fila['Playcount']), fila['Similar Artists']\n",
    "    ))\n",
    "\n",
    "cnx.commit()\n",
    "\n",
    "\n",
    "print(\"✅ FASE 1: Datos insertados en kpop y kpop_artistas.\")"
   ]
  },
  {
   "cell_type": "code",
   "execution_count": null,
   "id": "3777f70c",
   "metadata": {},
   "outputs": [
    {
     "name": "stderr",
     "output_type": "stream",
     "text": [
      "C:\\Users\\AIDA\\AppData\\Local\\Temp\\ipykernel_12532\\917894883.py:3: UserWarning: pandas only supports SQLAlchemy connectable (engine/connection) or database string URI or sqlite3 DBAPI2 connection. Other DBAPI2 objects are not tested. Please consider using SQLAlchemy.\n",
      "  df_kpop = pd.read_sql(\"SELECT * FROM kpop\", cnx)\n"
     ]
    }
   ],
   "source": [
    "# Para extraer los datos necesarios para la tabla intermedia e insertarlos en kpop:\n",
    "\n",
    "df_kpop = pd.read_sql(\"SELECT * FROM kpop\", cnx)\n",
    "    \n",
    "artistas_y_canciones_kpop = []\n",
    "\n",
    "for _, fila in df_kpop.iterrows():\n",
    "    if pd.isna(fila['id_cancion']) or pd.isna(fila['nombre_artista']):\n",
    "        continue  # como nos da fallo al insertar los datos por registros Nan, saltamos si falta algún dato\n",
    "\n",
    "    artistas_kpop = fila['nombre_artista'].split(',')\n",
    "    for artista in artistas_kpop:\n",
    "        artista_limpio = artista.strip()\n",
    "        if artista_limpio.lower() == 'nan' or artista_limpio == '':\n",
    "            continue  # evitamos artistas vacíos o mal formateados\n",
    "\n",
    "        artistas_y_canciones_kpop.append((int(fila['id_cancion']), artista_limpio)) \n",
    "\n",
    "\n",
    "df_artistas_canciones_kpop = pd.DataFrame(artistas_y_canciones_kpop, columns=['id_cancion', 'artist'])\n",
    "\n",
    "df_artistas_unicos_kpop = df_artistas_canciones_kpop['artist'].drop_duplicates()\n",
    "\n",
    "for artista in df_artistas_unicos_kpop:\n",
    "    cursor.execute(\"\"\"\n",
    "        INSERT INTO kpop_artistas (artista) \n",
    "        SELECT %s\n",
    "        WHERE NOT EXISTS (SELECT 1 FROM kpop_artistas WHERE artista = %s)\n",
    "    \"\"\", (artista, artista))\n",
    "\n",
    "cnx.commit()\n",
    "\n",
    "artistas_ids_kpop = {}\n",
    "cursor.execute(\"SELECT id_artista, artista FROM kpop_artistas\")\n",
    "for fila in cursor.fetchall():\n",
    "    artistas_ids_kpop[fila[1]] = fila[0]  \n",
    "\n",
    "df_artistas_canciones_kpop['id_artista'] = df_artistas_canciones_kpop['artist'].map(artistas_ids_kpop)\n",
    "df_artistas_canciones_kpop = df_artistas_canciones_kpop.where(pd.notnull(df_artistas_canciones_kpop), None)\n",
    "\n",
    "# Eliminamos los registros que tienen nan craedos por map, antes de insertarlos en la tabla\n",
    "\n",
    "df_artistas_canciones_kpop = df_artistas_canciones_kpop.dropna(subset=['id_artista'])\n",
    "\n",
    "for _, fila in df_artistas_canciones_kpop.iterrows():\n",
    "    cursor.execute(\"\"\"\n",
    "        INSERT INTO canciones_artistas_kpop (id_cancion, id_artista) \n",
    "        VALUES (%s, %s)\n",
    "        ON DUPLICATE KEY UPDATE id_artista = id_artista\n",
    "    \"\"\", (fila['id_cancion'], fila['id_artista']))\n",
    "\n",
    "cnx.commit()\n",
    "\n",
    "print(\"✅ Relaciones insertadas correctamente.\")"
   ]
  },
  {
   "cell_type": "code",
   "execution_count": 36,
   "id": "f069f582",
   "metadata": {},
   "outputs": [
    {
     "name": "stdout",
     "output_type": "stream",
     "text": [
      "✅ Relaciones insertadas correctamente.\n"
     ]
    }
   ],
   "source": [
    "for artista in df_artistas_unicos_kpop:\n",
    "    cursor.execute(\"\"\"\n",
    "        INSERT INTO kpop_artistas (artista) \n",
    "        SELECT %s\n",
    "        WHERE NOT EXISTS (SELECT 1 FROM kpop_artistas WHERE artista = %s)\n",
    "    \"\"\", (artista, artista))\n",
    "\n",
    "cnx.commit()\n",
    "\n",
    "artistas_ids_kpop = {}\n",
    "cursor.execute(\"SELECT id_artista, artista FROM kpop_artistas\")\n",
    "for fila in cursor.fetchall():\n",
    "    artistas_ids_kpop[fila[1]] = fila[0]  \n",
    "\n",
    "df_artistas_canciones_kpop['id_artista'] = df_artistas_canciones_kpop['artist'].map(artistas_ids_kpop)\n",
    "df_artistas_canciones_kpop = df_artistas_canciones_kpop.where(pd.notnull(df_artistas_canciones_kpop), None)\n",
    "\n",
    "df_artistas_canciones_kpop = df_artistas_canciones_kpop.dropna(subset=['id_artista'])\n",
    "\n",
    "for _, fila in df_artistas_canciones_kpop.iterrows():\n",
    "    cursor.execute(\"\"\"\n",
    "        INSERT INTO canciones_artistas_kpop (id_cancion, id_artista) \n",
    "        VALUES (%s, %s)\n",
    "        ON DUPLICATE KEY UPDATE id_artista = id_artista\n",
    "    \"\"\", (fila['id_cancion'], fila['id_artista']))\n",
    "\n",
    "cnx.commit()\n",
    "\n",
    "print(\"✅ Relaciones insertadas correctamente.\")"
   ]
  },
  {
   "cell_type": "code",
   "execution_count": 27,
   "id": "89e72428",
   "metadata": {},
   "outputs": [],
   "source": [
    "# Cerramos la conexión con la base de datos y sql\n",
    "\n",
    "cnx.close()"
   ]
  }
 ],
 "metadata": {
  "kernelspec": {
   "display_name": "Python 3",
   "language": "python",
   "name": "python3"
  },
  "language_info": {
   "codemirror_mode": {
    "name": "ipython",
    "version": 3
   },
   "file_extension": ".py",
   "mimetype": "text/x-python",
   "name": "python",
   "nbconvert_exporter": "python",
   "pygments_lexer": "ipython3",
   "version": "3.13.2"
  }
 },
 "nbformat": 4,
 "nbformat_minor": 5
}
